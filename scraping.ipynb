{
 "cells": [
  {
   "cell_type": "code",
   "execution_count": 13,
   "id": "6696f34b-0f02-4a76-a073-3e96d98b1789",
   "metadata": {},
   "outputs": [],
   "source": [
    "import requests\n",
    "\n",
    "from selenium import webdriver\n",
    "from selenium.webdriver.common.keys import Keys\n",
    "from selenium.webdriver.common.by import By"
   ]
  },
  {
   "cell_type": "code",
   "execution_count": 12,
   "id": "87574087-7bef-497c-8016-b3bfd97fc020",
   "metadata": {},
   "outputs": [],
   "source": [
    "driver = webdriver.Firefox()"
   ]
  },
  {
   "cell_type": "code",
   "execution_count": 15,
   "id": "abe416a7-feec-4753-98c6-504a639d8555",
   "metadata": {},
   "outputs": [],
   "source": [
    "base_url = \"https://rlduels.gg\"\n",
    "matches_url = f\"{base_url}/games\"\n",
    "players_base_url = f\"{base_url}/players\""
   ]
  },
  {
   "cell_type": "code",
   "execution_count": 16,
   "id": "76298e10-1afe-4a5b-85d1-5231a5c2a4f5",
   "metadata": {},
   "outputs": [],
   "source": [
    "driver.get(matches_url)"
   ]
  },
  {
   "cell_type": "code",
   "execution_count": 4,
   "id": "2379c052-790e-4a29-95a6-c1b48a51eced",
   "metadata": {},
   "outputs": [],
   "source": [
    "assert \"Python\" in driver.title"
   ]
  },
  {
   "cell_type": "code",
   "execution_count": 5,
   "id": "a595adf5-f0e8-45db-ac05-7deff0ba815c",
   "metadata": {},
   "outputs": [],
   "source": [
    "elem = driver.find_element(By.NAME, \"q\")"
   ]
  },
  {
   "cell_type": "code",
   "execution_count": 8,
   "id": "d00b37bf-5848-43bf-983a-41289c39081a",
   "metadata": {},
   "outputs": [],
   "source": [
    "elem.clear()"
   ]
  },
  {
   "cell_type": "code",
   "execution_count": 9,
   "id": "bb512497-0335-45ed-bdd9-0bd27faf1578",
   "metadata": {},
   "outputs": [],
   "source": [
    "elem.send_keys(\"pycon\")"
   ]
  },
  {
   "cell_type": "code",
   "execution_count": 10,
   "id": "18032a2b-f378-4a0f-8cc9-a515ba4e85b0",
   "metadata": {},
   "outputs": [],
   "source": [
    "elem.send_keys(Keys.RETURN)"
   ]
  },
  {
   "cell_type": "code",
   "execution_count": 11,
   "id": "94f289cf-7de3-48b9-91f2-ac6fe9d9a6e5",
   "metadata": {},
   "outputs": [
    {
     "ename": "AssertionError",
     "evalue": "",
     "output_type": "error",
     "traceback": [
      "\u001b[0;31m---------------------------------------------------------------------------\u001b[0m",
      "\u001b[0;31mAssertionError\u001b[0m                            Traceback (most recent call last)",
      "Cell \u001b[0;32mIn [11], line 1\u001b[0m\n\u001b[0;32m----> 1\u001b[0m \u001b[38;5;28;01massert\u001b[39;00m \u001b[38;5;124m\"\u001b[39m\u001b[38;5;124mNo results found.\u001b[39m\u001b[38;5;124m\"\u001b[39m \u001b[38;5;129;01mnot\u001b[39;00m \u001b[38;5;129;01min\u001b[39;00m driver\u001b[38;5;241m.\u001b[39mpage_source\n",
      "\u001b[0;31mAssertionError\u001b[0m: "
     ]
    }
   ],
   "source": [
    "assert \"No results found.\" not in driver.page_source"
   ]
  },
  {
   "cell_type": "code",
   "execution_count": null,
   "id": "1a6314f1-75f4-4771-9ce3-71840c7d5eaa",
   "metadata": {},
   "outputs": [],
   "source": []
  }
 ],
 "metadata": {
  "kernelspec": {
   "display_name": "Python 3 (ipykernel)",
   "language": "python",
   "name": "python3"
  },
  "language_info": {
   "codemirror_mode": {
    "name": "ipython",
    "version": 3
   },
   "file_extension": ".py",
   "mimetype": "text/x-python",
   "name": "python",
   "nbconvert_exporter": "python",
   "pygments_lexer": "ipython3",
   "version": "3.11.0"
  }
 },
 "nbformat": 4,
 "nbformat_minor": 5
}
